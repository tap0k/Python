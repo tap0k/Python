{
  "nbformat": 4,
  "nbformat_minor": 0,
  "metadata": {
    "colab": {
      "name": "Invite.ipynb",
      "provenance": [],
      "authorship_tag": "ABX9TyP29vYTQYBJVMV34y0uhHhh",
      "include_colab_link": true
    },
    "kernelspec": {
      "name": "python3",
      "display_name": "Python 3"
    }
  },
  "cells": [
    {
      "cell_type": "markdown",
      "metadata": {
        "id": "view-in-github",
        "colab_type": "text"
      },
      "source": [
        "<a href=\"https://colab.research.google.com/github/tap0k/Python/blob/master/Invite.ipynb\" target=\"_parent\"><img src=\"https://colab.research.google.com/assets/colab-badge.svg\" alt=\"Open In Colab\"/></a>"
      ]
    },
    {
      "cell_type": "code",
      "metadata": {
        "id": "8jV4jfdTdPe0",
        "colab_type": "code",
        "colab": {}
      },
      "source": [
        "class Friend:\n",
        "  name = \"\"\n",
        "  message = \"No party =(\"\n",
        "  def __init__(self, name):\n",
        "    self.name = name\n",
        "\n",
        "  def show_invite(self):\n",
        "    print(self.message)\n",
        "  \n",
        "class Party:\n",
        "  name = \"Party\"\n",
        "  def __init__(self, name):\n",
        "    self.name = name\n",
        "    #self.friends = friends\n",
        "\n",
        "  def invite(self,friend):\n",
        "    friend.message=self.name;\n",
        "  \n",
        "  def delete_friend(friends,friend):\n",
        "    friends.delete(friend)\n",
        "\n",
        "  def new_friend(friends,friend):\n",
        "    friends.append(friend)\n",
        "\n",
        "\n",
        "\n",
        "friend1 = Friend(\"Влад\")\n",
        "friend2 = Friend(\"Женя\")\n",
        "friend3 = Friend(\"Люся\")\n",
        "\n",
        "friends=[friend1,friend2,friend3]\n",
        "\n",
        "\n",
        "del friends[2]\n",
        "print(friends)\n",
        "\n",
        "def new_Friend(friends):\n",
        "  print(friends)\n",
        "  friendNew = input(\"Введи имя нового друга: \")\n",
        "  friendI=Friend(friendNew);\n",
        "  friends.append(friendI)\n",
        "  print(friends)\n",
        "\n",
        "new_Friend(friends)\n",
        "\n",
        "#partyHard=Party(\"Pub\");\n",
        "\n",
        "#for friend in friends:\n",
        "#  partyHard.invite(friend);\n",
        "\n",
        "#friend1.show_invite()\n",
        "\n",
        "\n",
        "\n",
        "# step 1: create friends\n",
        "# step 2: create an array of friends\n",
        "# step 2: create party\n",
        "# step 3: delete some friend\n",
        "\n",
        "\n",
        "\n",
        "#friendF=input();\n",
        "#friend1=Friend(friendF);\n",
        "\n",
        "\n"
      ],
      "execution_count": 0,
      "outputs": []
    },
    {
      "cell_type": "code",
      "metadata": {
        "id": "X_4opedflc_v",
        "colab_type": "code",
        "colab": {}
      },
      "source": [
        ""
      ],
      "execution_count": 0,
      "outputs": []
    },
    {
      "cell_type": "code",
      "metadata": {
        "id": "vj-Q1wx2lzpQ",
        "colab_type": "code",
        "colab": {}
      },
      "source": [
        ""
      ],
      "execution_count": 0,
      "outputs": []
    }
  ]
}