{
  "nbformat": 4,
  "nbformat_minor": 0,
  "metadata": {
    "colab": {
      "name": "Untitled7.ipynb",
      "provenance": [],
      "collapsed_sections": [],
      "authorship_tag": "ABX9TyPgWm4sxO2d4HbpYBk7+efB",
      "include_colab_link": true
    },
    "kernelspec": {
      "name": "python3",
      "display_name": "Python 3"
    }
  },
  "cells": [
    {
      "cell_type": "markdown",
      "metadata": {
        "id": "view-in-github",
        "colab_type": "text"
      },
      "source": [
        "<a href=\"https://colab.research.google.com/github/tap0k/Python/blob/master/Geometry%20figures.ipynb\" target=\"_parent\"><img src=\"https://colab.research.google.com/assets/colab-badge.svg\" alt=\"Open In Colab\"/></a>"
      ]
    },
    {
      "cell_type": "code",
      "metadata": {
        "id": "nksi5gwTh2ix",
        "colab_type": "code",
        "colab": {}
      },
      "source": [
        "import math as m \n",
        "\n",
        "class Parameter:\n",
        "  parameter=0;\n",
        "  def __init__(self, parameter):\n",
        "    self.parameter=parameter\n",
        "\t\n",
        "  def perimeter():\n",
        "    pass;\n",
        "\n",
        "  def volume():\n",
        "    pass;\n",
        "\n",
        "  def area():\n",
        "    pass;\n",
        "\n",
        "  def choose_figure(self):\n",
        "    figures = { 1:\"Коло\", 2:\"Правильний трикутник\", 3:\"Квадрат\", 4:\"Правильний п'ятикутник\", 5:\"Правильний шестикутник\",6:\"Куб\"}\n",
        "    print(\"Hello, it's me, Mario!\")\n",
        "    print(figures)\n",
        "    figure = int(input(\"Вибери цифру: \"))\n",
        "    if figure == 1:\n",
        "      return Circle(self.parameter)\n",
        "    elif figure == 2:\n",
        "      return Triangle(self.parameter)\n",
        "    elif figure == 3:\n",
        "      return Square(self.parameter)\n",
        "    elif figure == 4:\n",
        "      return Pentagon(self.parameter)\n",
        "    elif figure == 5:\n",
        "      return Hexagon(self.parameter)\n",
        "    elif figure == 6:\n",
        "      return Cube(self.parameter)\n",
        "    else:\n",
        "      print(\"Ти ввів неправильне число\")\n",
        "      return None;\n",
        "  \n",
        "class Circle(Parameter):\n",
        "  def __init__(self,parameter):\n",
        "    super().__init__(parameter)\n",
        "\n",
        "  def perimeter(self):\n",
        "    P = 2 * 3.14 * self.parameter\n",
        "    return P;\n",
        "\n",
        "  def volume(self):\n",
        "    pass;\n",
        "\n",
        "  def area(self):\n",
        "    S = 3.14 * self.parameter * self.parameter\n",
        "    return S;\n",
        "\n",
        "class Triangle(Parameter):\n",
        "  def __init__(self,parameter):\n",
        "    super().__init__(parameter)\n",
        "\n",
        "  def perimeter(self):\n",
        "    P = self.parameter * 3\n",
        "    return P;\n",
        "\n",
        "  def volume(self):\n",
        "    pass;\n",
        "\n",
        "  def area(self):\n",
        "    S = m.sqrt(3)/4 * pow(self.parameter, 2)\n",
        "    return S;  \n",
        "\n",
        "class Square(Parameter):\n",
        "  def __init__(self,parameter):\n",
        "    super().__init__(parameter)\n",
        "\n",
        "  def perimeter(self):\n",
        "    P = self.parameter * 4\n",
        "    return P;\n",
        "\n",
        "  def volume(self):\n",
        "    pass;\n",
        "\n",
        "  def area(self):\n",
        "    S = pow(self.parameter, 2)\n",
        "    return S;\n",
        "\n",
        "class Pentagon(Parameter):\n",
        "  def __init__(self,parameter):\n",
        "    super().__init__(parameter)\n",
        "\n",
        "  def perimeter(self):\n",
        "    P = self.parameter * 5\n",
        "    return P;\n",
        "\n",
        "  def volume(self):\n",
        "    pass;\n",
        "\n",
        "  def area(self):\n",
        "    S = (5 * pow(self.parameter, 2)) / 4 * m.tan(1 / 5)\n",
        "    return S;    \n",
        "  \n",
        "class Hexagon(Parameter):\n",
        "  def __init__(self,parameter):\n",
        "    super().__init__(parameter)\n",
        "\n",
        "  def perimeter(self):\n",
        "    P = self.parameter * 6\n",
        "    return P;\n",
        "\n",
        "  def volume(self):\n",
        "    pass;\n",
        "\n",
        "  def area(self):\n",
        "    S = (pow(self.parameter, 2) * m.sqrt(3)) / 2\n",
        "    return S;  \n",
        "    \n",
        "class Cube(Parameter):\n",
        "  def __init__(self,parameter):\n",
        "    super().__init__(parameter)\n",
        "\n",
        "  def perimeter(self):\n",
        "    pass;\n",
        "\n",
        "  def volume(self):\n",
        "    V = pow(self.parameter, 3)\n",
        "    return V;\n",
        "\n",
        "  def area(self):\n",
        "    pass;     \n",
        "\n",
        "\t\n",
        "\n",
        "\n",
        "\n"
      ],
      "execution_count": 0,
      "outputs": []
    },
    {
      "cell_type": "code",
      "metadata": {
        "id": "05xCBIPCjEVh",
        "colab_type": "code",
        "colab": {}
      },
      "source": [
        ""
      ],
      "execution_count": 0,
      "outputs": []
    },
    {
      "cell_type": "code",
      "metadata": {
        "id": "OXad_xXhv58c",
        "colab_type": "code",
        "colab": {}
      },
      "source": [
        ""
      ],
      "execution_count": 0,
      "outputs": []
    },
    {
      "cell_type": "code",
      "metadata": {
        "id": "ZJxgdEGgv80i",
        "colab_type": "code",
        "colab": {}
      },
      "source": [
        ""
      ],
      "execution_count": 0,
      "outputs": []
    },
    {
      "cell_type": "code",
      "metadata": {
        "id": "yyTPWgMYwfEa",
        "colab_type": "code",
        "colab": {}
      },
      "source": [
        ""
      ],
      "execution_count": 0,
      "outputs": []
    }
  ]
}